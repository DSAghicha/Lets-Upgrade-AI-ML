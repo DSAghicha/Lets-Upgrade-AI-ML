{
  "nbformat": 4,
  "nbformat_minor": 0,
  "metadata": {
    "colab": {
      "name": "Day #6.ipynb",
      "provenance": []
    },
    "kernelspec": {
      "name": "python3",
      "display_name": "Python 3"
    }
  },
  "cells": [
    {
      "cell_type": "markdown",
      "metadata": {
        "id": "SfozG9zcGlIA",
        "colab_type": "text"
      },
      "source": [
        "# Assuming that we have some email addresses in the \"username@companyname.com\" format, please write program to print the company name of a given email address. Both user names and company names are composed of letters only"
      ]
    },
    {
      "cell_type": "code",
      "metadata": {
        "id": "JSvVIr7wGKRe",
        "colab_type": "code",
        "colab": {
          "base_uri": "https://localhost:8080/",
          "height": 51
        },
        "outputId": "5a937f52-e9ac-466a-94e1-45fa9ca36ce4"
      },
      "source": [
        "user_inp = input()\n",
        "start = user_inp.find(\"@\") + 1\n",
        "end = user_inp.find(\".\")\n",
        "print(user_inp[start:end])"
      ],
      "execution_count": null,
      "outputs": [
        {
          "output_type": "stream",
          "text": [
            "john@google.com\n",
            "google\n"
          ],
          "name": "stdout"
        }
      ]
    },
    {
      "cell_type": "markdown",
      "metadata": {
        "id": "oolzVoXDL4gN",
        "colab_type": "text"
      },
      "source": [
        "# Write a program that accepts a comma-separated sequence of words as input and prints the words in a comma separated sequence after sorting them alphabetically."
      ]
    },
    {
      "cell_type": "code",
      "metadata": {
        "id": "meaW9NrQL7OQ",
        "colab_type": "code",
        "colab": {
          "base_uri": "https://localhost:8080/",
          "height": 50
        },
        "outputId": "59b8657d-a4cb-4845-8fe4-e8a5365292eb"
      },
      "source": [
        "words = input()\n",
        "word_list =sorted(words.split(\",\"))\n",
        "print(word_list)"
      ],
      "execution_count": 9,
      "outputs": [
        {
          "output_type": "stream",
          "text": [
            "without,hello,bag,world\n",
            "['bag', 'hello', 'without', 'world']\n"
          ],
          "name": "stdout"
        }
      ]
    },
    {
      "cell_type": "markdown",
      "metadata": {
        "id": "-XSMirw9dnRQ",
        "colab_type": "text"
      },
      "source": [
        "# Create your own Jupyter Notebook for Sets."
      ]
    },
    {
      "cell_type": "markdown",
      "metadata": {
        "id": "HlUvYY5CeW7B",
        "colab_type": "text"
      },
      "source": [
        "A set is an unordered collection of unique elements return with curly brackets. ``` example = {'apple', 'banana', 'grapes'}```.\n",
        "\n",
        "The sets does not have order or index. Hence, one cannot say the order in which the items might appear.\n",
        "\n",
        "### Common Usage of sets are:\n",
        "* Removing duplicates from a sequence .\n",
        "* Membership Testing.\n",
        "* Performing Mathematical Operations such as intersection, union, difference, and symmetric difference.\n",
        "\n",
        "**Since v2.6 SETS were deprecated and replaced with _set/frozenset_ modules.**\n",
        "\n",
        "\n"
      ]
    },
    {
      "cell_type": "markdown",
      "metadata": {
        "id": "_Qesmwa9hDlB",
        "colab_type": "text"
      },
      "source": [
        "The **set** type is mutable i.e the contents can be changed using functions like `add()` & `remove()`. *(Example 3)*\n",
        "\n",
        "The **frozenset** type is immutable i.e the contents cannot be changed once it is created. <ins>See Example below</ins>"
      ]
    },
    {
      "cell_type": "code",
      "metadata": {
        "id": "NL547gk8kqgx",
        "colab_type": "code",
        "colab": {
          "base_uri": "https://localhost:8080/",
          "height": 67
        },
        "outputId": "85a17da1-31cf-4a74-e14b-d4a29ed08314"
      },
      "source": [
        "\"\"\"1. Example of a Set\"\"\"\n",
        "my_set = {\"Python\", \"C\", \"C++\", \"C#\", \"Ruby\", \"Java\", \"Clojure\"}\n",
        "print(my_set)\n",
        "print(type(my_set))\n",
        "print(len(my_set))"
      ],
      "execution_count": 22,
      "outputs": [
        {
          "output_type": "stream",
          "text": [
            "{'Ruby', 'C', 'C#', 'Python', 'Clojure', 'Java', 'C++'}\n",
            "<class 'set'>\n",
            "7\n"
          ],
          "name": "stdout"
        }
      ]
    },
    {
      "cell_type": "code",
      "metadata": {
        "id": "SJq4AwsVd487",
        "colab_type": "code",
        "colab": {
          "base_uri": "https://localhost:8080/",
          "height": 213
        },
        "outputId": "04412734-06ab-4bb3-e87d-5109f269dbfb"
      },
      "source": [
        "'''Example of Frozen Set'''\n",
        "fset = frozenset( (\"Python\", \"C\", \"C++\", \"C#\", \"Ruby\", \"Java\", \"Clojure\"))\n",
        "print(fset)\n",
        "fset.add(\"Swift\")"
      ],
      "execution_count": 13,
      "outputs": [
        {
          "output_type": "stream",
          "text": [
            "frozenset({'C#', 'Java', 'C++', 'Python', 'C', 'Ruby', 'Clojure'})\n"
          ],
          "name": "stdout"
        },
        {
          "output_type": "error",
          "ename": "AttributeError",
          "evalue": "ignored",
          "traceback": [
            "\u001b[0;31m---------------------------------------------------------------------------\u001b[0m",
            "\u001b[0;31mAttributeError\u001b[0m                            Traceback (most recent call last)",
            "\u001b[0;32m<ipython-input-13-da4c98097f61>\u001b[0m in \u001b[0;36m<module>\u001b[0;34m()\u001b[0m\n\u001b[1;32m      3\u001b[0m \u001b[0mfset\u001b[0m \u001b[0;34m=\u001b[0m \u001b[0mfrozenset\u001b[0m\u001b[0;34m(\u001b[0m \u001b[0;34m(\u001b[0m\u001b[0;34m\"Python\"\u001b[0m\u001b[0;34m,\u001b[0m \u001b[0;34m\"C\"\u001b[0m\u001b[0;34m,\u001b[0m \u001b[0;34m\"C++\"\u001b[0m\u001b[0;34m,\u001b[0m \u001b[0;34m\"C#\"\u001b[0m\u001b[0;34m,\u001b[0m \u001b[0;34m\"Ruby\"\u001b[0m\u001b[0;34m,\u001b[0m \u001b[0;34m\"Java\"\u001b[0m\u001b[0;34m,\u001b[0m \u001b[0;34m\"Clojure\"\u001b[0m\u001b[0;34m)\u001b[0m\u001b[0;34m)\u001b[0m\u001b[0;34m\u001b[0m\u001b[0;34m\u001b[0m\u001b[0m\n\u001b[1;32m      4\u001b[0m \u001b[0mprint\u001b[0m\u001b[0;34m(\u001b[0m\u001b[0mfset\u001b[0m\u001b[0;34m)\u001b[0m\u001b[0;34m\u001b[0m\u001b[0;34m\u001b[0m\u001b[0m\n\u001b[0;32m----> 5\u001b[0;31m \u001b[0mfset\u001b[0m\u001b[0;34m.\u001b[0m\u001b[0madd\u001b[0m\u001b[0;34m(\u001b[0m\u001b[0;34m\"Swift\"\u001b[0m\u001b[0;34m)\u001b[0m\u001b[0;34m\u001b[0m\u001b[0;34m\u001b[0m\u001b[0m\n\u001b[0m",
            "\u001b[0;31mAttributeError\u001b[0m: 'frozenset' object has no attribute 'add'"
          ]
        }
      ]
    },
    {
      "cell_type": "markdown",
      "metadata": {
        "id": "C_qL8VRERsEz",
        "colab_type": "text"
      },
      "source": [
        "∵ Sets don't have index using [index_number] index method.\n",
        "\n",
        "However, this can be done using `for` loop or one can access a specific element using `in`. *(Example 2)*"
      ]
    },
    {
      "cell_type": "code",
      "metadata": {
        "id": "DXD48S6YkloJ",
        "colab_type": "code",
        "colab": {
          "base_uri": "https://localhost:8080/",
          "height": 201
        },
        "outputId": "278f5555-101c-423d-9f45-02898850159e"
      },
      "source": [
        "\"\"\"2. Accessing elements of a set\"\"\"\n",
        "for elem in my_set:\n",
        "    print(elem)\n",
        "print(\"**********\")\n",
        "print(\"Swift\" in my_set)\n",
        "print(\"Ruby\" in my_set)\n",
        "print(\"ruby\" in my_set)  # ∵ Strings are case sensitive"
      ],
      "execution_count": 15,
      "outputs": [
        {
          "output_type": "stream",
          "text": [
            "Ruby\n",
            "C\n",
            "C#\n",
            "Python\n",
            "Clojure\n",
            "Java\n",
            "C++\n",
            "**********\n",
            "False\n",
            "True\n",
            "False\n"
          ],
          "name": "stdout"
        }
      ]
    },
    {
      "cell_type": "markdown",
      "metadata": {
        "id": "QEmvoumRU2ny",
        "colab_type": "text"
      },
      "source": [
        "#### Various functions associated with Sets\n",
        "`set_name.add(\"element\")` is used to add **ONLY ONE** element.\n",
        "\n",
        "`set_name.update([\"element1\", \"element2\"])` is used to add **MULTIPLE** elements.\n",
        "\n",
        "`set_name.remove(\"element\")` & `set_name.discard(\"element\")` is used to remove an element.\n",
        "\n",
        "The remove() will RAISE an error while discard() DOES NOT.\n",
        "\n",
        "`set_name.pop()` will pop an element randomly.\n",
        "\n",
        "`set_name.clear()` will empty the set.\n",
        "\n",
        "` del set_name` will delete the set completely.\n"
      ]
    },
    {
      "cell_type": "code",
      "metadata": {
        "id": "4NBIx0SIRATQ",
        "colab_type": "code",
        "colab": {
          "base_uri": "https://localhost:8080/",
          "height": 117
        },
        "outputId": "bc136eed-0cae-42de-f84c-3b5adb59aa08"
      },
      "source": [
        "\"\"\" 3. Various functions associated with Sets\"\"\"\n",
        "my_set.add(\"Kotlin\")\n",
        "print(my_set)\n",
        "my_set.update([\"Swift\", \"R\", \"JavaScript\"])\n",
        "print(my_set)\n",
        "my_set.remove(\"JavaScript\")\n",
        "print(my_set)\n",
        "my_set.discard(\"R\")\n",
        "print(my_set)\n",
        "my_set.pop()\n",
        "print(my_set)\n",
        "my_set_2 = my_set.copy()\n",
        "print(my_set_2)\n"
      ],
      "execution_count": 23,
      "outputs": [
        {
          "output_type": "stream",
          "text": [
            "{'Ruby', 'C', 'C#', 'Python', 'Clojure', 'Kotlin', 'Java', 'C++'}\n",
            "{'Ruby', 'C', 'C#', 'Python', 'Clojure', 'R', 'Swift', 'Kotlin', 'JavaScript', 'Java', 'C++'}\n",
            "{'Ruby', 'C', 'C#', 'Python', 'Clojure', 'R', 'Swift', 'Kotlin', 'Java', 'C++'}\n",
            "{'Ruby', 'C', 'C#', 'Python', 'Clojure', 'Swift', 'Kotlin', 'Java', 'C++'}\n",
            "{'C', 'C#', 'Python', 'Clojure', 'Swift', 'Kotlin', 'Java', 'C++'}\n",
            "{'C', 'C#', 'Python', 'Clojure', 'Swift', 'Kotlin', 'Java', 'C++'}\n"
          ],
          "name": "stdout"
        }
      ]
    },
    {
      "cell_type": "code",
      "metadata": {
        "id": "m3ecWwTyXC6_",
        "colab_type": "code",
        "colab": {
          "base_uri": "https://localhost:8080/",
          "height": 213
        },
        "outputId": "8819d1f4-3e6e-415c-d5a4-b7062cb91f08"
      },
      "source": [
        "my_set_2.clear()\n",
        "print(my_set_2)\n",
        "del my_set_2\n",
        "print(my_set_2)"
      ],
      "execution_count": 25,
      "outputs": [
        {
          "output_type": "stream",
          "text": [
            "set()\n"
          ],
          "name": "stdout"
        },
        {
          "output_type": "error",
          "ename": "NameError",
          "evalue": "ignored",
          "traceback": [
            "\u001b[0;31m---------------------------------------------------------------------------\u001b[0m",
            "\u001b[0;31mNameError\u001b[0m                                 Traceback (most recent call last)",
            "\u001b[0;32m<ipython-input-25-ee709fd9c83a>\u001b[0m in \u001b[0;36m<module>\u001b[0;34m()\u001b[0m\n\u001b[1;32m      2\u001b[0m \u001b[0mprint\u001b[0m\u001b[0;34m(\u001b[0m\u001b[0mmy_set_2\u001b[0m\u001b[0;34m)\u001b[0m\u001b[0;34m\u001b[0m\u001b[0;34m\u001b[0m\u001b[0m\n\u001b[1;32m      3\u001b[0m \u001b[0;32mdel\u001b[0m \u001b[0mmy_set_2\u001b[0m\u001b[0;34m\u001b[0m\u001b[0;34m\u001b[0m\u001b[0m\n\u001b[0;32m----> 4\u001b[0;31m \u001b[0mprint\u001b[0m\u001b[0;34m(\u001b[0m\u001b[0mmy_set_2\u001b[0m\u001b[0;34m)\u001b[0m\u001b[0;34m\u001b[0m\u001b[0;34m\u001b[0m\u001b[0m\n\u001b[0m",
            "\u001b[0;31mNameError\u001b[0m: name 'my_set_2' is not defined"
          ]
        }
      ]
    },
    {
      "cell_type": "markdown",
      "metadata": {
        "id": "PXq-GXoTd6NZ",
        "colab_type": "text"
      },
      "source": [
        "# Given a list of n-1 numbers ranging from 1 to n, your task is to find the missing number"
      ]
    },
    {
      "cell_type": "code",
      "metadata": {
        "id": "O4DaXy7RXmIi",
        "colab_type": "code",
        "colab": {
          "base_uri": "https://localhost:8080/",
          "height": 50
        },
        "outputId": "4eae2a5a-8b99-4367-b149-c885a41610a2"
      },
      "source": [
        "my_list = [int(x) for x in input().split(\" \")]\n",
        "missing_no = ((len(my_list) + 1) * (len(my_list) + 2) / 2) - sum(my_list)\n",
        "print(\"{} has missing number: {}\".format(my_list, int(missing_no)))"
      ],
      "execution_count": 30,
      "outputs": [
        {
          "output_type": "stream",
          "text": [
            "1 2 4 6 3 7 8\n",
            "[1, 2, 4, 6, 3, 7, 8] has missing number: 5\n"
          ],
          "name": "stdout"
        }
      ]
    },
    {
      "cell_type": "markdown",
      "metadata": {
        "id": "b6wM6ix4bU_s",
        "colab_type": "text"
      },
      "source": [
        "# A program to remove duplicate values"
      ]
    },
    {
      "cell_type": "code",
      "metadata": {
        "id": "jLngx6Ozb9Dh",
        "colab_type": "code",
        "colab": {
          "base_uri": "https://localhost:8080/",
          "height": 50
        },
        "outputId": "95db19b6-03db-4973-d322-b61a4bb3affe"
      },
      "source": [
        "my_list = [int(x) for x in input().split(\" \")]\n",
        "unique_items = list(set(my_list))\n",
        "unique_items = sorted(unique_items)\n",
        "print(*unique_items, sep = \" \")\n"
      ],
      "execution_count": 46,
      "outputs": [
        {
          "output_type": "stream",
          "text": [
            "12 24 35 24 88 120 155 88 120 155\n",
            "12 24 35 88 120 155\n"
          ],
          "name": "stdout"
        }
      ]
    }
  ]
}