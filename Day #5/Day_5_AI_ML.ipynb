{
  "nbformat": 4,
  "nbformat_minor": 0,
  "metadata": {
    "colab": {
      "name": "Day #5|AI ML.ipynb",
      "provenance": []
    },
    "kernelspec": {
      "name": "python3",
      "display_name": "Python 3"
    }
  },
  "cells": [
    {
      "cell_type": "markdown",
      "metadata": {
        "id": "DiEpyTh3LF7U",
        "colab_type": "text"
      },
      "source": [
        "# Write a Python program to find the first 20 non-even prime natural numbers."
      ]
    },
    {
      "cell_type": "code",
      "metadata": {
        "id": "gywX2PeAK9P1",
        "colab_type": "code",
        "colab": {
          "base_uri": "https://localhost:8080/",
          "height": 190
        },
        "outputId": "16509c24-5b19-45d0-ef7a-91be27e04d27"
      },
      "source": [
        "for num in range(3, 32):\n",
        "    for i in range(2, num):\n",
        "        if num % i == 0:\n",
        "            break\n",
        "    else:\n",
        "         print(num)"
      ],
      "execution_count": 8,
      "outputs": [
        {
          "output_type": "stream",
          "text": [
            "3\n",
            "5\n",
            "7\n",
            "11\n",
            "13\n",
            "17\n",
            "19\n",
            "23\n",
            "29\n",
            "31\n"
          ],
          "name": "stdout"
        }
      ]
    },
    {
      "cell_type": "markdown",
      "metadata": {
        "id": "2AF5Cnw8V-kn",
        "colab_type": "text"
      },
      "source": [
        "# Write a Python program to implement 15 functions of string."
      ]
    },
    {
      "cell_type": "code",
      "metadata": {
        "id": "Re76uoqoZ6pW",
        "colab_type": "code",
        "colab": {}
      },
      "source": [
        "my_string = \"hi, i am programming in python language\""
      ],
      "execution_count": 9,
      "outputs": []
    },
    {
      "cell_type": "code",
      "metadata": {
        "id": "3jEFvnNL1YbA",
        "colab_type": "code",
        "colab": {
          "base_uri": "https://localhost:8080/",
          "height": 312
        },
        "outputId": "37e71c28-5431-4a04-f8e9-dc4b1762a457"
      },
      "source": [
        "print(\"1. \", my_string.capitalize())\n",
        "print(\"2. \", my_string.center(100))\n",
        "print(\"3. \", my_string.endswith(\"e\"))\n",
        "print(\"3. \", my_string.endswith(\"z\"))\n",
        "print(\"4. {}\".format(my_string))\n",
        "print(\"5. {}\".format(my_string.upper()))\n",
        "print(\"6. {}\".format(my_string.title()))\n",
        "print(\"7. {} : {}\".format(my_string, my_string.replace(\"programming\", \"writing\")))\n",
        "print(\"8. {}\".format(len(my_string)))\n",
        "print(\"9. {}\".format(my_string.split()))\n",
        "print(\"10. {}\".format(my_string.lower()))\n",
        "print(\"11. {}\".format('def'.isidentifier()))\n",
        "print(\"12. {}\".format(my_string.isnumeric()))\n",
        "print(\"13. {}\".format(my_string.isspace()))\n",
        "print(\"14. {}\".format(my_string.isdigit()))\n",
        "print(\"15. {}\".format(my_string.find('e')))\n",
        "print(\"15. {}\".format(my_string.find('e', 1, 10)))"
      ],
      "execution_count": 29,
      "outputs": [
        {
          "output_type": "stream",
          "text": [
            "1.  Hi, i am programming in python language\n",
            "2.                                hi, i am programming in python language                               \n",
            "3.  True\n",
            "3.  False\n",
            "4. hi, i am programming in python language\n",
            "5. HI, I AM PROGRAMMING IN PYTHON LANGUAGE\n",
            "6. Hi, I Am Programming In Python Language\n",
            "7. hi, i am programming in python language : hi, i am writing in python language\n",
            "8. 39\n",
            "9. ['hi,', 'i', 'am', 'programming', 'in', 'python', 'language']\n",
            "10. hi, i am programming in python language\n",
            "11. True\n",
            "12. False\n",
            "13. False\n",
            "14. False\n",
            "15. 38\n",
            "15. -1\n"
          ],
          "name": "stdout"
        }
      ]
    },
    {
      "cell_type": "markdown",
      "metadata": {
        "id": "VJI5bL1f5twF",
        "colab_type": "text"
      },
      "source": [
        "# Write a Python program to check if the given string is a Palindrome or Anagram or None of them. Display the message accordingly to the user."
      ]
    },
    {
      "cell_type": "code",
      "metadata": {
        "id": "ztznXtd95xco",
        "colab_type": "code",
        "colab": {
          "base_uri": "https://localhost:8080/",
          "height": 51
        },
        "outputId": "293bde21-57b9-4900-865a-d9e117ecf033"
      },
      "source": [
        "s = input()\n",
        "if s == s[::-1]:\n",
        "    print(\"'{}' is a Palindrome.\".format(s))\n",
        "else:\n",
        "    print(\"'{}' is not a Palindrome.\".format(s))"
      ],
      "execution_count": 36,
      "outputs": [
        {
          "output_type": "stream",
          "text": [
            "radar\n",
            "'radar' is a Palindrome.\n"
          ],
          "name": "stdout"
        }
      ]
    },
    {
      "cell_type": "code",
      "metadata": {
        "id": "85vrUZaS-Uf8",
        "colab_type": "code",
        "colab": {
          "base_uri": "https://localhost:8080/",
          "height": 69
        },
        "outputId": "c8e8ed25-b707-4f31-9ef8-79e3802d2697"
      },
      "source": [
        "z, y = input(), input()\n",
        "if sorted(z) == sorted(y):\n",
        "     print(\"'{}' & '{}' are Anagrams.\".format(z, y))\n",
        "else:\n",
        "    print(\"'{}' & '{}' are not Anagrams.\".format(z, y))"
      ],
      "execution_count": 35,
      "outputs": [
        {
          "output_type": "stream",
          "text": [
            "silent\n",
            "listen\n",
            "'silent' & 'listen' are Anagrams.\n"
          ],
          "name": "stdout"
        }
      ]
    },
    {
      "cell_type": "markdown",
      "metadata": {
        "id": "YbeGqvp6_0TQ",
        "colab_type": "text"
      },
      "source": [
        "# Write a Python's user defined function that removes all the additional characters from the string and converts it finally to lower case using built-in lower()."
      ]
    },
    {
      "cell_type": "code",
      "metadata": {
        "id": "dRuprtfDAApf",
        "colab_type": "code",
        "colab": {
          "base_uri": "https://localhost:8080/",
          "height": 69
        },
        "outputId": "1f355ec0-3f7e-40c8-9669-52732a6fd781"
      },
      "source": [
        "bad_char = ['!', '@', '#', ' ', ',', '.', ';', ':', '/', '?', '$', '%', '^', '&', '*', '(', ')', '-', '_', '=', '+',\n",
        "            '{', '}', '[', ']', \"'\", '\"']\n",
        "user_inp = input()\n",
        "print(\"Original String is: \", user_inp)\n",
        "for i in bad_char : \n",
        "    user_inp = user_inp.replace(i, '') \n",
        "print(\"Revised string is:\", user_inp.lower())"
      ],
      "execution_count": 42,
      "outputs": [
        {
          "output_type": "stream",
          "text": [
            "Dr. Darshan Ingle @AI-ML Trainer\n",
            "Original String is:  Dr. Darshan Ingle @AI-ML Trainer\n",
            "Revised string is: drdarshaningleaimltrainer\n"
          ],
          "name": "stdout"
        }
      ]
    }
  ]
}