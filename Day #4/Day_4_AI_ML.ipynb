{
  "nbformat": 4,
  "nbformat_minor": 0,
  "metadata": {
    "colab": {
      "name": "Day #4|AI ML.ipynb",
      "provenance": []
    },
    "kernelspec": {
      "name": "python3",
      "display_name": "Python 3"
    }
  },
  "cells": [
    {
      "cell_type": "markdown",
      "metadata": {
        "id": "KVRyduqj8jp2",
        "colab_type": "text"
      },
      "source": [
        "**DAY #4**\n",
        "--- "
      ]
    },
    {
      "cell_type": "markdown",
      "metadata": {
        "id": "Y0wB1Eq5jBnx",
        "colab_type": "text"
      },
      "source": [
        "# Arithmetic Operations on Complex Numbers"
      ]
    },
    {
      "cell_type": "code",
      "metadata": {
        "id": "e4tLya3hi9Nw",
        "colab_type": "code",
        "colab": {
          "base_uri": "https://localhost:8080/",
          "height": 34
        },
        "outputId": "c5ffa43f-2d27-4722-ba28-4bd9b4960d11"
      },
      "source": [
        "z1 = 5+8j\n",
        "z2 = 4+2j\n",
        "print(z1 + z2)"
      ],
      "execution_count": null,
      "outputs": [
        {
          "output_type": "stream",
          "text": [
            "(9+10j)\n"
          ],
          "name": "stdout"
        }
      ]
    },
    {
      "cell_type": "code",
      "metadata": {
        "id": "IbwKei51jpp6",
        "colab_type": "code",
        "colab": {
          "base_uri": "https://localhost:8080/",
          "height": 34
        },
        "outputId": "9807974e-0516-4a39-ecbd-ba513c7c41d3"
      },
      "source": [
        "print(z1 - z2)"
      ],
      "execution_count": null,
      "outputs": [
        {
          "output_type": "stream",
          "text": [
            "(1+6j)\n"
          ],
          "name": "stdout"
        }
      ]
    },
    {
      "cell_type": "code",
      "metadata": {
        "id": "wE008Tbwjwts",
        "colab_type": "code",
        "colab": {
          "base_uri": "https://localhost:8080/",
          "height": 34
        },
        "outputId": "45b49fa3-2aa0-4a1d-b85b-5e8c0d355c00"
      },
      "source": [
        "print(z1 * z2)"
      ],
      "execution_count": null,
      "outputs": [
        {
          "output_type": "stream",
          "text": [
            "(4+42j)\n"
          ],
          "name": "stdout"
        }
      ]
    },
    {
      "cell_type": "code",
      "metadata": {
        "id": "XVaQlaIpj0Mu",
        "colab_type": "code",
        "colab": {
          "base_uri": "https://localhost:8080/",
          "height": 34
        },
        "outputId": "49bac1d3-475b-4b63-a6d8-ea976648a8d6"
      },
      "source": [
        "print(z1 / z2)"
      ],
      "execution_count": null,
      "outputs": [
        {
          "output_type": "stream",
          "text": [
            "(1.8+1.1j)\n"
          ],
          "name": "stdout"
        }
      ]
    },
    {
      "cell_type": "code",
      "metadata": {
        "id": "xxooxsasj9XE",
        "colab_type": "code",
        "colab": {
          "base_uri": "https://localhost:8080/",
          "height": 167
        },
        "outputId": "df4970ad-e29f-4cec-c5a1-9ec3e624a124"
      },
      "source": [
        "print(z1 // z2)"
      ],
      "execution_count": null,
      "outputs": [
        {
          "output_type": "error",
          "ename": "TypeError",
          "evalue": "ignored",
          "traceback": [
            "\u001b[0;31m---------------------------------------------------------------------------\u001b[0m",
            "\u001b[0;31mTypeError\u001b[0m                                 Traceback (most recent call last)",
            "\u001b[0;32m<ipython-input-6-b291bedb2352>\u001b[0m in \u001b[0;36m<module>\u001b[0;34m()\u001b[0m\n\u001b[0;32m----> 1\u001b[0;31m \u001b[0mprint\u001b[0m\u001b[0;34m(\u001b[0m\u001b[0mz1\u001b[0m \u001b[0;34m//\u001b[0m \u001b[0mz2\u001b[0m\u001b[0;34m)\u001b[0m\u001b[0;34m\u001b[0m\u001b[0;34m\u001b[0m\u001b[0m\n\u001b[0m",
            "\u001b[0;31mTypeError\u001b[0m: can't take floor of complex number."
          ]
        }
      ]
    },
    {
      "cell_type": "code",
      "metadata": {
        "id": "6zkm9uqxkN_9",
        "colab_type": "code",
        "colab": {
          "base_uri": "https://localhost:8080/",
          "height": 167
        },
        "outputId": "e4630029-de47-40f6-8ca7-abcfcd31eb92"
      },
      "source": [
        "print(z1 % z2)"
      ],
      "execution_count": null,
      "outputs": [
        {
          "output_type": "error",
          "ename": "TypeError",
          "evalue": "ignored",
          "traceback": [
            "\u001b[0;31m---------------------------------------------------------------------------\u001b[0m",
            "\u001b[0;31mTypeError\u001b[0m                                 Traceback (most recent call last)",
            "\u001b[0;32m<ipython-input-7-54088285ad2a>\u001b[0m in \u001b[0;36m<module>\u001b[0;34m()\u001b[0m\n\u001b[0;32m----> 1\u001b[0;31m \u001b[0mprint\u001b[0m\u001b[0;34m(\u001b[0m\u001b[0mz1\u001b[0m \u001b[0;34m%\u001b[0m \u001b[0mz2\u001b[0m\u001b[0;34m)\u001b[0m\u001b[0;34m\u001b[0m\u001b[0;34m\u001b[0m\u001b[0m\n\u001b[0m",
            "\u001b[0;31mTypeError\u001b[0m: can't mod complex numbers."
          ]
        }
      ]
    },
    {
      "cell_type": "markdown",
      "metadata": {
        "id": "2BLmOkLr6xOb",
        "colab_type": "text"
      },
      "source": [
        "∴ Only basics arithmetic operations such as ADDITION, SUBTRACTION, MULTIPLICATION & DIVISION is only possible on complex numbers"
      ]
    },
    {
      "cell_type": "markdown",
      "metadata": {
        "id": "BQk5t5jV7f56",
        "colab_type": "text"
      },
      "source": [
        "# range() function"
      ]
    },
    {
      "cell_type": "markdown",
      "metadata": {
        "id": "wHa1YlRCDT2d",
        "colab_type": "text"
      },
      "source": [
        "\n",
        "range() function is used for generating a sequence of number.\n",
        "It takes three optional arguments:\n",
        "*start, stop, step*\n",
        "\n",
        "*start:*  Defines the starting point of range. (Default value 0)\n",
        "\n",
        "*stop:* Defines the stopping point of range. (Not included)\n",
        "*step:* Defines jumping steps\n",
        "\n",
        "\n",
        "```\n",
        "range( start, stop, step)\n",
        "```\n",
        "\n"
      ]
    },
    {
      "cell_type": "code",
      "metadata": {
        "id": "P_cz2Vv5Fevi",
        "colab_type": "code",
        "colab": {
          "base_uri": "https://localhost:8080/",
          "height": 1000
        },
        "outputId": "38d7ce02-b36a-498a-b037-c7ecaa856938"
      },
      "source": [
        "for x in range(10):\n",
        "    print(x)\n",
        "print(\"----\")\n",
        "for y in range(100, 144):\n",
        "    print(y)\n",
        "print(\"----\")\n",
        "for z in range(100, 1000, 100):\n",
        "    print(z)"
      ],
      "execution_count": 29,
      "outputs": [
        {
          "output_type": "stream",
          "text": [
            "0\n",
            "1\n",
            "2\n",
            "3\n",
            "4\n",
            "5\n",
            "6\n",
            "7\n",
            "8\n",
            "9\n",
            "----\n",
            "100\n",
            "101\n",
            "102\n",
            "103\n",
            "104\n",
            "105\n",
            "106\n",
            "107\n",
            "108\n",
            "109\n",
            "110\n",
            "111\n",
            "112\n",
            "113\n",
            "114\n",
            "115\n",
            "116\n",
            "117\n",
            "118\n",
            "119\n",
            "120\n",
            "121\n",
            "122\n",
            "123\n",
            "124\n",
            "125\n",
            "126\n",
            "127\n",
            "128\n",
            "129\n",
            "130\n",
            "131\n",
            "132\n",
            "133\n",
            "134\n",
            "135\n",
            "136\n",
            "137\n",
            "138\n",
            "139\n",
            "140\n",
            "141\n",
            "142\n",
            "143\n",
            "----\n",
            "100\n",
            "200\n",
            "300\n",
            "400\n",
            "500\n",
            "600\n",
            "700\n",
            "800\n",
            "900\n"
          ],
          "name": "stdout"
        }
      ]
    },
    {
      "cell_type": "markdown",
      "metadata": {
        "id": "c7OfjAgI7rHD",
        "colab_type": "text"
      },
      "source": [
        "# Consider two numbers. Perform their subtraction and if the result of subtraction is greater than 25, print their multiplication result else print their division result"
      ]
    },
    {
      "cell_type": "code",
      "metadata": {
        "id": "_yo03Zal7sXU",
        "colab_type": "code",
        "colab": {
          "base_uri": "https://localhost:8080/",
          "height": 51
        },
        "outputId": "e554ae9c-3c13-48a7-ff5a-84b35147a571"
      },
      "source": [
        "a = int(input())\n",
        "b = int(input())"
      ],
      "execution_count": 3,
      "outputs": [
        {
          "output_type": "stream",
          "text": [
            "100\n",
            "25\n"
          ],
          "name": "stdout"
        }
      ]
    },
    {
      "cell_type": "code",
      "metadata": {
        "id": "wu0zC4sv84fs",
        "colab_type": "code",
        "colab": {
          "base_uri": "https://localhost:8080/",
          "height": 34
        },
        "outputId": "dc65075b-45ee-45fd-d12f-6b350b45a856"
      },
      "source": [
        "if a - b > 25:\n",
        "    print(a * b)\n",
        "else:\n",
        "    print(a / b)"
      ],
      "execution_count": 4,
      "outputs": [
        {
          "output_type": "stream",
          "text": [
            "2500\n"
          ],
          "name": "stdout"
        }
      ]
    },
    {
      "cell_type": "markdown",
      "metadata": {
        "id": "om4felxn9hNJ",
        "colab_type": "text"
      },
      "source": [
        "#  Consider a list of 10 elements of integer values. If the number in the list is divisible by 2, print the result as \"square of that number minus 2\"."
      ]
    },
    {
      "cell_type": "code",
      "metadata": {
        "id": "hy-L-NWD-bR-",
        "colab_type": "code",
        "colab": {
          "base_uri": "https://localhost:8080/",
          "height": 34
        },
        "outputId": "2399448d-1853-46da-9d37-8ece7b50c25a"
      },
      "source": [
        "import random\n",
        "my_list = []\n",
        "for _i in range(0, 10):\n",
        "    my_list.append(random.randint(0, 30))\n",
        "print(my_list)"
      ],
      "execution_count": 20,
      "outputs": [
        {
          "output_type": "stream",
          "text": [
            "[0, 8, 19, 12, 12, 2, 15, 10, 19, 28]\n"
          ],
          "name": "stdout"
        }
      ]
    },
    {
      "cell_type": "code",
      "metadata": {
        "id": "H0h63D-c_nAX",
        "colab_type": "code",
        "colab": {
          "base_uri": "https://localhost:8080/",
          "height": 138
        },
        "outputId": "d6982f03-006c-4160-9b62-3f641ec4d2ac"
      },
      "source": [
        "for i in range(len(my_list)):\n",
        "    if my_list[i] % 2 == 0:\n",
        "        print((my_list[i] ** 2) - 2)"
      ],
      "execution_count": 23,
      "outputs": [
        {
          "output_type": "stream",
          "text": [
            "-2\n",
            "62\n",
            "142\n",
            "142\n",
            "2\n",
            "98\n",
            "782\n"
          ],
          "name": "stdout"
        }
      ]
    },
    {
      "cell_type": "markdown",
      "metadata": {
        "id": "Gx4q6PZ4CFlJ",
        "colab_type": "text"
      },
      "source": [
        "# Consider a list of 10 elements. Print all the elements in the list which are greater than 7 when that number is divided 2."
      ]
    },
    {
      "cell_type": "code",
      "metadata": {
        "id": "RxYhBspPCNqk",
        "colab_type": "code",
        "colab": {
          "base_uri": "https://localhost:8080/",
          "height": 34
        },
        "outputId": "28a66e2c-f2f1-4d56-c64c-dcf9fe821c17"
      },
      "source": [
        "import random\n",
        "my_list_2 = []\n",
        "for _i in range(0, 10):\n",
        "    my_list_2.append(random.randint(0, 30))\n",
        "print(my_list_2)"
      ],
      "execution_count": 19,
      "outputs": [
        {
          "output_type": "stream",
          "text": [
            "[0, 30, 15, 11, 23, 27, 13, 17, 30, 11]\n"
          ],
          "name": "stdout"
        }
      ]
    },
    {
      "cell_type": "code",
      "metadata": {
        "id": "kHovFNGmCfuR",
        "colab_type": "code",
        "colab": {
          "base_uri": "https://localhost:8080/",
          "height": 121
        },
        "outputId": "bbff4185-427a-470a-ce32-7807cb83b77f"
      },
      "source": [
        "for i in range(len(my_list_2)):\n",
        "    if my_list_2[i] / 2 > 7:\n",
        "        print(my_list_2[i])"
      ],
      "execution_count": 25,
      "outputs": [
        {
          "output_type": "stream",
          "text": [
            "30\n",
            "15\n",
            "23\n",
            "27\n",
            "17\n",
            "30\n"
          ],
          "name": "stdout"
        }
      ]
    }
  ]
}